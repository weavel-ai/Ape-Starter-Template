{
  "cells": [
    {
      "cell_type": "markdown",
      "metadata": {},
      "source": [
        "## Ape (gpt-4o-mini)"
      ]
    },
    {
      "cell_type": "markdown",
      "metadata": {
        "id": "ViHpAYFmKqPX"
      },
      "source": [
        "### Load dataset (GSM8K)"
      ]
    },
    {
      "cell_type": "code",
      "execution_count": 2,
      "metadata": {
        "colab": {
          "base_uri": "https://localhost:8080/"
        },
        "id": "T5XQ222RG5rp",
        "outputId": "059f72be-1776-4701-a8d4-6efb5762206f"
      },
      "outputs": [
        {
          "name": "stdout",
          "output_type": "stream",
          "text": [
            "Loaded 500 items from trainset.jsonl\n",
            "Loaded 1319 items from testset.jsonl\n"
          ]
        }
      ],
      "source": [
        "import dotenv\n",
        "import json\n",
        "from dspy.datasets.gsm8k import parse_integer_answer\n",
        "from ape.types import DatasetItem\n",
        "\n",
        "# load environment variables\n",
        "dotenv.load_dotenv()\n",
        "\n",
        "# Check if jsonl files exist\n",
        "# Load from jsonl files\n",
        "with open('trainset.jsonl', 'r') as f:\n",
        "    trainset = [DatasetItem(**json.loads(line)) for line in f]\n",
        "with open('testset.jsonl', 'r') as f:\n",
        "    testset = [DatasetItem(**json.loads(line)) for line in f]\n",
        "    \n",
        "print(f\"Loaded {len(trainset)} items from trainset.jsonl\")\n",
        "print(f\"Loaded {len(testset)} items from testset.jsonl\")"
      ]
    },
    {
      "cell_type": "markdown",
      "metadata": {
        "id": "zCFNEjSKKshY"
      },
      "source": [
        "### Setup evaluation metric"
      ]
    },
    {
      "cell_type": "code",
      "execution_count": 3,
      "metadata": {
        "id": "WyOeJmRlHEih"
      },
      "outputs": [],
      "source": [
        "from ape import BaseMetric\n",
        "from typing import Any, Dict, Optional\n",
        "from dataclasses import dataclass\n",
        "\n",
        "@dataclass\n",
        "class MetricResult:\n",
        "  score: float\n",
        "  intermediate_values: Optional[Dict[str, Any]] = None\n",
        "\n",
        "# Set up the metric\n",
        "class GSM8KMetric(BaseMetric):\n",
        "  def compute(self, inputs: dict, gold: dict, pred: dict, trace=None):\n",
        "    if not isinstance(pred, dict):\n",
        "      return MetricResult(score=0.0)\n",
        "    if \"answer\" not in pred:\n",
        "      return MetricResult(score=0.0)\n",
        "\n",
        "    is_correct = int(parse_integer_answer(str(gold[\"answer\"]))) == int(\n",
        "        parse_integer_answer(str(pred[\"answer\"]))\n",
        "    )\n",
        "\n",
        "    return MetricResult(score=float(is_correct))"
      ]
    },
    {
      "cell_type": "markdown",
      "metadata": {
        "id": "iB9MAYB6K40y"
      },
      "source": [
        "### Setup MIPRO and load base prompt"
      ]
    },
    {
      "cell_type": "code",
      "execution_count": 4,
      "metadata": {
        "id": "ypMk5bSZHEcS"
      },
      "outputs": [],
      "source": [
        "from ape import MIPRO\n",
        "\n",
        "mipro = MIPRO(\n",
        "    prompt_model=\"gpt-4o\", # model that will generate instruction\n",
        "    task_model=\"gpt-4o-mini\", # model that will run the prompt\n",
        "    metric=GSM8KMetric(), # metric\n",
        "    verbose=True,\n",
        "    num_candidates=10, # number of candidate instructions that will be generated\n",
        "    minibatch_size=50, # number of examples to use in each minibatch\n",
        ")"
      ]
    },
    {
      "cell_type": "code",
      "execution_count": 5,
      "metadata": {
        "id": "F6PKX8oyHGYv"
      },
      "outputs": [],
      "source": [
        "from ape import Prompt\n",
        "\n",
        "gsm8k_base_prompt = Prompt.load_file(\"gsm8k-base.prompt\")"
      ]
    },
    {
      "cell_type": "markdown",
      "metadata": {
        "id": "XwmoRzfeKwbF"
      },
      "source": [
        "### Start Optimizing"
      ]
    },
    {
      "cell_type": "code",
      "execution_count": 5,
      "metadata": {
        "colab": {
          "base_uri": "https://localhost:8080/",
          "height": 1000
        },
        "id": "d1S2KaPTH-Yy",
        "outputId": "4d182057-e042-46cb-d2b6-af465b052430"
      },
      "outputs": [
        {
          "data": {
            "text/html": [
              "<pre style=\"white-space:pre;overflow-x:auto;line-height:normal;font-family:Menlo,'DejaVu Sans Mono',consolas,'Courier New',monospace\">╭───────────────────────────────────────────────── Cost Warning ──────────────────────────────────────────────────╮\n",
              "│ <span style=\"color: #808000; text-decoration-color: #808000; font-weight: bold\">WARNING: Projected Language Model (LM) Calls</span>                                                                    │\n",
              "│                                                                                                                 │\n",
              "│ Please be advised that based on the parameters you have set, the maximum number of LM calls is projected as     │\n",
              "│ follows:                                                                                                        │\n",
              "│                                                                                                                 │\n",
              "│ <span style=\"color: #008080; text-decoration-color: #008080\">- Prompt Model: 10 data summarizer calls + 10 lm calls in program = 21 prompt model calls</span>                       │\n",
              "│ <span style=\"color: #008080; text-decoration-color: #008080\">- Task Model: 50 examples in minibatch * 20 batches + 500 examples in train set * 2 full evals = 2000 task </span>     │\n",
              "│ <span style=\"color: #008080; text-decoration-color: #008080\">model calls</span>                                                                                                     │\n",
              "│                                                                                                                 │\n",
              "│ <span style=\"color: #808000; text-decoration-color: #808000; font-weight: bold\">Estimated Cost Calculation:</span>                                                                                     │\n",
              "│ Total Cost = (Number of calls to task model * (Avg Input Token Length per Call * Task Model Price per Input     │\n",
              "│ Token + Avg Output Token Length per Call * Task Model Price per Output Token)                                   │\n",
              "│             + (Number of calls to prompt model * (Avg Input Token Length per Call * Task Prompt Price per Input │\n",
              "│ Token + Avg Output Token Length per Call * Prompt Model Price per Output Token).                                │\n",
              "│                                                                                                                 │\n",
              "│ For a preliminary estimate of potential costs, we recommend you perform your own calculations based on the task │\n",
              "│ and prompt models you intend to use. If the projected costs exceed your budget or expectations, you may         │\n",
              "│ consider:                                                                                                       │\n",
              "│ - Reducing the number of trials (`max_steps`), the size of the trainset, or the number of LM calls in your      │\n",
              "│ program.                                                                                                        │\n",
              "│ - Using a cheaper task model to optimize the prompt.                                                            │\n",
              "╰─────────────────────────────────────────────────────────────────────────────────────────────────────────────────╯\n",
              "</pre>\n"
            ],
            "text/plain": [
              "╭───────────────────────────────────────────────── Cost Warning ──────────────────────────────────────────────────╮\n",
              "│ \u001b[1;33mWARNING: Projected Language Model (LM) Calls\u001b[0m                                                                    │\n",
              "│                                                                                                                 │\n",
              "│ Please be advised that based on the parameters you have set, the maximum number of LM calls is projected as     │\n",
              "│ follows:                                                                                                        │\n",
              "│                                                                                                                 │\n",
              "│ \u001b[36m- Prompt Model: 10 data summarizer calls + 10 lm calls in program = 21 prompt model calls\u001b[0m                       │\n",
              "│ \u001b[36m- Task Model: 50 examples in minibatch * 20 batches + 500 examples in train set * 2 full evals = 2000 task \u001b[0m     │\n",
              "│ \u001b[36mmodel calls\u001b[0m                                                                                                     │\n",
              "│                                                                                                                 │\n",
              "│ \u001b[1;33mEstimated Cost Calculation:\u001b[0m                                                                                     │\n",
              "│ Total Cost = (Number of calls to task model * (Avg Input Token Length per Call * Task Model Price per Input     │\n",
              "│ Token + Avg Output Token Length per Call * Task Model Price per Output Token)                                   │\n",
              "│             + (Number of calls to prompt model * (Avg Input Token Length per Call * Task Prompt Price per Input │\n",
              "│ Token + Avg Output Token Length per Call * Prompt Model Price per Output Token).                                │\n",
              "│                                                                                                                 │\n",
              "│ For a preliminary estimate of potential costs, we recommend you perform your own calculations based on the task │\n",
              "│ and prompt models you intend to use. If the projected costs exceed your budget or expectations, you may         │\n",
              "│ consider:                                                                                                       │\n",
              "│ - Reducing the number of trials (`max_steps`), the size of the trainset, or the number of LM calls in your      │\n",
              "│ program.                                                                                                        │\n",
              "│ - Using a cheaper task model to optimize the prompt.                                                            │\n",
              "╰─────────────────────────────────────────────────────────────────────────────────────────────────────────────────╯\n"
            ]
          },
          "metadata": {},
          "output_type": "display_data"
        },
        {
          "name": "stderr",
          "output_type": "stream",
          "text": [
            "\u001b[2m2024-08-29T17:49:41.987573Z\u001b[0m [\u001b[31m\u001b[1merror    \u001b[0m] \u001b[1mError reformatting prompt: ape.types.response_format.ResponseFormat() argument after ** must be a mapping, not str. Retrying...\u001b[0m [\u001b[0m\u001b[1m\u001b[34mape.optimizer.utils\u001b[0m]\u001b[0m \u001b[36mfilename\u001b[0m=\u001b[35mlogging.py\u001b[0m \u001b[36mlineno\u001b[0m=\u001b[35m32\u001b[0m\n"
          ]
        },
        {
          "name": "stdout",
          "output_type": "stream",
          "text": [
            "Working on seed: -3\n",
            "Working on seed: -2\n",
            "Working on seed: -1\n",
            "Working on seed: 0\n",
            "Working on seed: 1\n",
            "Working on seed: 2\n",
            "Working on seed: 3\n",
            "Working on seed: 4\n",
            "Working on seed: 5\n",
            "Working on seed: 6\n",
            "fewshot candidates: [[], [DatasetItem(inputs={'question': 'Karen is a dog groomer. Rottweilers take 20 minutes to groom, border collies take 10 minutes to groom, and chihuahuas take 45 minutes to groom because they ferociously resist. How many minutes will it take Karen to groom 6 Rottweilers, 9 border collies and 1 chihuahua?'}, outputs={'gold_reasoning': 'First find the total time Karen spending grooming Rottweilers: 20 minutes/Rottweiler * 6 Rottweilers = <<20*6=120>>120 minutes Then find the total time she spends grooming border collies: 10 minutes/border collie * 9 border collies = <<10*9=90>>90 minutes Then add the time spent grooming all three kinds of dogs to find her total grooming time: 120 minutes + 90 minutes + 45 minutes = <<120+90+45=255>>255 minutes', 'answer': '255'}, metadata={'split': 'train'}), DatasetItem(inputs={'question': 'Tom is binge-watching a show on Netflix. The show has 90 episodes, each one of which is 20 minutes long because there are no commercials. If Tom can spend two hours a day watching the show, how many days will it take him to finish watching the show?'}, outputs={'gold_reasoning': 'Each episode is 20 minutes long, and there are 90 episodes, so the series takes 20 minutes per episode * 90 episodes = <<20*90=1800>>1800 minutes to watch. 1800 minutes / 60 minutes per hour = <<1800/60=30>>30 hours to watch the series. Tom can watch 2 hours of TV a day, so it will take him 30 hours / 2 hours per day = <<30/2=15>>15 days to watch the entire series.', 'answer': '15'}, metadata={'split': 'train'}), DatasetItem(inputs={'question': 'John plays paintball 3 times a month.  Each time he plays he buys 3 boxes of paintballs.  They cost $25 per box.  How much does he spend a month on paintballs?'}, outputs={'gold_reasoning': 'He spends 3*25=$<<3*25=75>>75 each time he plays So he spends 75*3=$<<75*3=225>>225', 'answer': '225'}, metadata={'split': 'train'}), DatasetItem(inputs={'question': 'Kristy, a sales representative earns a basic salary of $7.50 per hour plus a 16% commission on everything she sells. This month, she worked for 160 hours and sold $25000 worth of items. Her monthly budget for food, clothing, rent, transportation, bills and savings is 95% of her total monthly earnings and the rest will be put towards insurance. How much did she allocate to insurance?'}, outputs={'gold_reasoning': 'Kristy earns a basic salary of $7.50 x 160 = $<<7.5*160=1200>>1200. Her total commission is $25000 x 16/100 = $<<25000*16/100=4000>>4000. Thus, her total earning is $1200 + $4000 = $<<1200+4000=5200>>5200. Her monthly budget aside from the insurance is $5200 x 95/100 = $<<5200*95/100=4940>>4940. Therefore, she allocated $5200 - $4940 = $<<5200-4940=260>>260 on insurance.', 'answer': '260'}, metadata={'split': 'train'}), DatasetItem(inputs={'question': 'Ms. Hatcher teaches 20 third-graders and a number of fourth-graders that is twice the number of third-graders. Her co-teacher asked her to substitute for her fifth-grade class that has half as many students as the number of third-graders. How many students did Ms. Hatcher teach for the day?'}, outputs={'gold_reasoning': 'Ms. Hatcher taught 20 x 2 = <<20*2=40>>40 fourth graders for the day. She taught 20 / 2 = <<20/2=10>>10 fifth-graders as a substitute teacher for the day. Therefore, she taught 20 + 40 + 10 = <<20+40+10=70>>70 students for the day.', 'answer': '70'}, metadata={'split': 'train'})], [DatasetItem(inputs={'question': 'John uses the bathroom every 50 minutes.  How many times does he use the bathroom during a 2.5-hour movie?'}, outputs={'gold_reasoning': 'The movie last 2.5*60=<<2.5*60=150>>150 minutes So he uses the bathroom 150/50=<<150/50=3>>3 times', 'answer': '3'}, metadata={'split': 'train'}), DatasetItem(inputs={'question': 'Jorge is 24 years younger than Simon. In 2005, Jorge is 16 years old. In 2010, how old would Simon be?'}, outputs={'gold_reasoning': 'In 2005, Simon was 16+24 = <<16+24=40>>40 years old. There are 2010-2005 = <<2010-2005=5>>5 years between 2005 and 2010. In 2010 Simon would be 40+5 = 45 years old.', 'answer': '45'}, metadata={'split': 'train'}), DatasetItem(inputs={'question': 'Megan pays $16 for a shirt that costs $22 before sales. What is the amount of the discount?'}, outputs={'gold_reasoning': 'Let x be the amount of the discount. We have, 22 - x = $16 We change the writing of the equation: 22 - x + x = 16 + x So, 22 = 16 + x We then Remove 16 from both sides: 22 - 16 = 16 + x - 16 So, 22 - 16 = x So, the amount of the discount is x = $<<6=6>>6.', 'answer': '6'}, metadata={'split': 'train'}), DatasetItem(inputs={'question': 'Paddington has 40 more goats than Washington. If Washington has 140 goats, how many goats do they have in total?'}, outputs={'gold_reasoning': 'If Washington has 140 goats, Washington has 140+40 = <<140+40=180>>180 goats. In total, they have 140+180 = <<140+180=320>>320 goats', 'answer': '320'}, metadata={'split': 'train'}), DatasetItem(inputs={'question': 'Robin likes to bake cupcakes for friends and to make her puppy North happy. Once Robin ate four cupcakes with chocolate sauce and twice as many cupcakes with buttercream frosting on her own. How many cupcakes did Robin eat?'}, outputs={'gold_reasoning': 'Robin ate twice as many buttercream cupcakes as chocolate sauce cupcakes, or 2 * 4 = <<2*4=8>>8. So in total she ate 4 + 8 = <<4+8=12>>12 cupcakes.', 'answer': '12'}, metadata={'split': 'train'})], [DatasetItem(inputs={'question': \"Vincent has 72 inches of rope that he wants to use for a project, but he needs to cut it into smaller pieces first. He cuts it into 12 equal length pieces, but then he realizes it's too short, so he ties three pieces together. The knots then make each piece 1 inch shorter. How long are his pieces of rope after all this?\"}, outputs={'gold_reasoning': 'Each small piece is 6 inches because 72 / 12 = <<72/12=6>>6. Each piece is then 5 inches long after the knots are tied because 6-1=<<5=5>>5 The three pieces tied together are now 15 inches long because 5 x 3 = <<5*3=15>>15', 'answer': '15'}, metadata={'split': 'train'}), DatasetItem(inputs={'question': 'Bruno wants to buy two and one-half dozens of pens. How many pens will he have?'}, outputs={'gold_reasoning': 'Since a dozen is equal to 12, then two dozens are equal to 12 x 2= <<24=24>>24. One-half dozen is equal to 12/2 = <<12/2=6>>6. Thus, Bruno will have a total of 24 + 6 = <<24+6=30>>30 pens.', 'answer': '30'}, metadata={'split': 'train'}), DatasetItem(inputs={'question': 'Dave bought 8 books about animals, 6 books about outer space, and 3 books about trains to keep him busy over the holidays. Each book cost $6. How much did Dave spend on the books?'}, outputs={'gold_reasoning': 'Dave buys 8 books + 6 books + 3 books = <<8+6+3=17>>17 books in total. He has to spend 17 books × $6/book = $<<17*6=102>>102 if he wants to buy all the books.', 'answer': '102'}, metadata={'split': 'train'}), DatasetItem(inputs={'question': 'Mark is baking bread. He has to let it rise for 120 minutes twice. He also needs to spend 10 minutes kneading it and 30 minutes baking it. How many minutes does it take Mark to finish making the bread?'}, outputs={'gold_reasoning': 'First find the total rise time: 120 minutes * 2 = <<120*2=240>>240 minutes Then add the rise time to the baking and kneading time: 240 minutes + 10 minutes + 30 minutes = <<240+10+30=280>>280 minutes', 'answer': '280'}, metadata={'split': 'train'}), DatasetItem(inputs={'question': 'John decides to replace all his hats.  He has enough hats to wear a different one every day for 2 weeks.  If each hat costs $50 how much do his hats cost?'}, outputs={'gold_reasoning': 'He has 2*7=<<2*7=14>>14 hats So they cost 14*50=$<<14*50=700>>700', 'answer': '700'}, metadata={'split': 'train'})], [DatasetItem(inputs={'question': 'If the wages of 15 workers for 6 days is $9450. What would be the wages for 19 workers for 5 days?'}, outputs={'gold_reasoning': 'This is equivalent to one worker working for 15 * 6 = <<15*6=90>>90 days. The pay per worker per day would be $9450 / 90 = $<<9450/90=105>>105. 19 workers working for 5 days is equivalent to one worker working for 19 * 5 = <<19*5=95>>95 days. It would cost $105 * 95 = $<<105*95=9975>>9975 to pay the workers for their time.', 'answer': '9975'}, metadata={'split': 'train'}), DatasetItem(inputs={'question': 'Ali had a stock of 800 books in his Room. He sold 60 on Monday, 10 on Tuesday, 20 on Wednesday, 44 on Thursday and 66 on Friday. How many books were not sold?'}, outputs={'gold_reasoning': 'We look first for the total number of books that were sold: 60 + 10 + 20 + 44 + 66 = <<60+10+20+44+66=200>>200 books. So the total number of books that were not sold is: 800 – 200 = <<800-200=600>>600 books.', 'answer': '600'}, metadata={'split': 'train'}), DatasetItem(inputs={'question': 'James buys pistachios for $10 per can.  Each can is 5 ounces.  He eats 30 ounces of pistachios every 5 days.  How much does he spend on pistachios per week?'}, outputs={'gold_reasoning': 'The pistachios cost 10/5=$<<10/5=2>>2 per ounce He eats 30/5=<<30/5=6>>6 ounces of pistachios a day So he spends 6*2=$<<6*2=12>>12 per day on pistachios So he spends 12*7=$<<12*7=84>>84 per week', 'answer': '84'}, metadata={'split': 'train'}), DatasetItem(inputs={'question': 'А Senior Center is hosting a bingo night. $2,400 in prize money will be given away. The first winner of the night will receive a third of the money. The next ten winners will each receive a 10th of the remaining amount. How many dollars will each of the next ten winners receive?'}, outputs={'gold_reasoning': 'The first winner will receive 2400 / 3 = $<<2400/3=800>>800. There will be 2400 - 800 = $<<2400-800=1600>>1600 left. The other winners will receive 1600 / 10 = $<<1600/10=160>>160 each.', 'answer': '160'}, metadata={'split': 'train'}), DatasetItem(inputs={'question': 'My age is five times that of my son. Next year, my son will be eight years old. How old am I now?'}, outputs={'gold_reasoning': \"If the son is going to be eight years old after a year from now, then currently, he is 8-1 = <<8-1=7>>7 Since the father's age is five times that of the son, currently he is 5*7 = <<5*7=35>>35 years old.\", 'answer': '35'}, metadata={'split': 'train'})], [DatasetItem(inputs={'question': 'During the soccer match, The Kickers scored 2 goals in the first period and twice that amount in the second period.  The other team, The Spiders, scored half the amount that The Kickers scored in the first period and twice the amount that The Kickers scored in their second period.  What is the total amount of goals both teams scored?'}, outputs={'gold_reasoning': \"The Kickers scored twice as many as 2 goals in the second period, so 2*2 = <<2*2=4>>4 goals The Spiders scored half as many as The Kickers' 2 goals from the 1st period so .5*2 = <<2*.5=1>>1 goal in the first period The Spiders scored twice as many as The Kickers' 4 goals from the second period, so 2*4 = <<2*4=8>>8 goals in the second period Together, they scored 2+4+1+8 = <<2+4+1+8=15>>15 goals total\", 'answer': '15'}, metadata={'split': 'train'}), DatasetItem(inputs={'question': 'Mandy’s phone data plan charges $30 per month for data. Her first month, she got a promotional rate of one-third the normal price. However, in the fourth month she went over her data limit and was charged an extra fee of $15. How much did Mandy pay in the first 6 months for data?'}, outputs={'gold_reasoning': 'Mandy paid 1/3 * 30 = 30 / 3 = $<<30/3=10>>10 for her first month of data. She paid 30 + 15 = $<<30+15=45>>45 for her fourth month of data. Minus those two months, she had 6 - 2 = <<6-2=4>>4 months of regular charges. Thus, Mandy paid 4 * 30 + 10 + 45 = 120 + 55 = $<<4*30+10+45=175>>175 for the first 6 months for data.', 'answer': '175'}, metadata={'split': 'train'}), DatasetItem(inputs={'question': \"Brayden and Gavin were playing touch football against Cole and Freddy. Touchdowns were worth 7 points. Brayden and Gavin scored 7 touchdowns. Cole and Freddy's team scored 9 touchdowns. How many more points did Cole and Freddy have than Brayden and Gavin?\"}, outputs={'gold_reasoning': \"Brayden and Gavin scored 7 touchdowns * 7 points each = <<7*7=49>>49 points. Cole and Freddy scored 9 touchdowns * 7 points each = <<9*7=63>>63 points. Cole and Freddy's team had 63 - 49 points = <<63-49=14>>14 points more than Brayden and Gavin's team.\", 'answer': '14'}, metadata={'split': 'train'}), DatasetItem(inputs={'question': 'Jerry is writing a script for a skit with three characters. The first character has eight more lines than the second character. The third character only has two lines. The second character has six more than three times the number of lines the third character has. How many lines does the first character in Jerry’s skit script have?'}, outputs={'gold_reasoning': 'The second character has 6 + 3 * 2 = 6 + 6 = <<6+3*2=12>>12 lines. The first character has 12 + 8 = <<12+8=20>>20 lines.', 'answer': '20'}, metadata={'split': 'train'}), DatasetItem(inputs={'question': 'Bella is making bracelets for her 6 friends. She needs 8 beads per bracelet. She has 36 beads. How many more beads does she need to make all six bracelets?'}, outputs={'gold_reasoning': 'Bella needs a total of 8 beads x 6 friends = <<8*6=48>>48 beads. She needs 48 beads – 36 beads = <<48-36=12>>12 more beads.', 'answer': '12'}, metadata={'split': 'train'})], [DatasetItem(inputs={'question': 'Ali had a stock of 800 books in his Room. He sold 60 on Monday, 10 on Tuesday, 20 on Wednesday, 44 on Thursday and 66 on Friday. How many books were not sold?'}, outputs={'gold_reasoning': 'We look first for the total number of books that were sold: 60 + 10 + 20 + 44 + 66 = <<60+10+20+44+66=200>>200 books. So the total number of books that were not sold is: 800 – 200 = <<800-200=600>>600 books.', 'answer': '600'}, metadata={'split': 'train'}), DatasetItem(inputs={'question': 'A store sold a certain brand of jeans for $40. They only have few pairs of jeans left so they decided to give 10% discount on every two pairs of jeans bought by a customer at any one time. How much will a customer pay for 3 pairs of jeans?'}, outputs={'gold_reasoning': 'Two pairs of jeans cost $40 x 2 = $<<40*2=80>>80. A discount of $80 x 10/100 = $<<80*10/100=8>>8 will be given for this. Hence, the cost of two pairs of jeans will now be $80 - $8 = $<<80-8=72>>72. Therefore, the customer will pay $72 + $40 = $<<72+40=112>>112 for the three pairs of jeans.', 'answer': '112'}, metadata={'split': 'train'}), DatasetItem(inputs={'question': 'Billy is breeding mice for an experiment. He starts with 8 mice, who each have 6 pups. When the pups grow up, all the mice have another 6 pups. Then each adult mouse eats 2 of their pups due to the stress of overcrowding. How many mice are left?'}, outputs={'gold_reasoning': 'First find the number of pups in the first generation: 8 mice * 6 pups/mouse = <<8*6=48>>48 pups Then add the number of adult mice to find the total number of mice: 48 pups + 8 mice = <<48+8=56>>56 mice Then find the number of pups per mouse that survive from the second generation: 6 pups/mouse - 2 pups/mouse = <<6-2=4>>4 pups/mouse Then multiply that number by the number of adult mice to find the number of pups in the second generation: 56 mice * 4 pups/mouse = <<56*4=224>>224 mice Then add the number of adult mice to the number of second-generation pups to find the total number of mice: 224 mice + 56 mice = <<224+56=280>>280 mice', 'answer': '280'}, metadata={'split': 'train'}), DatasetItem(inputs={'question': 'Charlotte needs to know how much money to have with her when she goes to the shoe store. How much money should Charlotte bring to buy a pair of boots, if the original price is $90 and there is a discount of 20%?'}, outputs={'gold_reasoning': 'The amount of the discount is 20/100 * $90 original price = $<<20/100*90=18>>18 Charlotte needs to bring the $90 - $18 discount = $<<90-18=72>>72', 'answer': '72'}, metadata={'split': 'train'}), DatasetItem(inputs={'question': 'It’s spring! The gardener at Parc Municipal orders flowers. He takes 250 tulips, 375 carnations and 320 roses. Each flower is sold for 2€. Calculate the total expenses.'}, outputs={'gold_reasoning': 'First we calculate the number of flowers: 250 + 375 + 320 = <<250+375+320=945>>945€ Then the expense: 945 X 2 = <<945*2=1890>>1890€ So, the total expenditure is €<<1890=1890>>1890.', 'answer': '1890'}, metadata={'split': 'train'})], [DatasetItem(inputs={'question': \"A lot of people have been sick at Gary's workplace, so he's been working a lot of extra shifts to fill in for people. As a result, he's earned some overtime (where every hour after 40 he earns 1.5 times his normal wage.) His paycheck (before taxes are taken out) came out to $696. If Gary normally earns $12 per hour, how many hours did he work that week?\"}, outputs={'gold_reasoning': \"Gary earned overtime, so he worked at least 40 hours. for which he was paid 40 hours * $12/hour = $<<40*12=480>>480 at his normal wage. This means that $696 - $480 = $<<696-480=216>>216 was earned at his overtime wage. His overtime wage is 1.5 his normal wage, or $12 * 1.5 = $<<12*1.5=18>>18 per hour. So Gary worked $216 / $18 per hour = <<216/18=12>>12 hours' worth of overtime. So in total, Gary worked 40 hours + 12 hours = <<40+12=52>>52 hours that week.\", 'answer': '52'}, metadata={'split': 'train'}), DatasetItem(inputs={'question': 'A state fair charges $5 for a ticket. Two-thirds of the people who buy a ticket will buy deep-fried fair food for $8, one quarter will go on a ride for $4, and one eighth will spend $15 on a souvenir. The fair made $2520 from tickets. How many dollars did they make in all?'}, outputs={'gold_reasoning': 'The fair made $2520 from tickets, so they had 2520 / 5 = <<2520/5=504>>504 people attend the fair. Two-thirds of those people will buy food, so 504 * 2 / 3 = <<504*2/3=336>>336 people will buy food. The fair will make 336 * 8 = $<<336*8=2688>>2688 from food. A quarter of the people will go on a ride, so 504 / 4 = <<504/4=126>>126 people will go on a ride. The fair will make 126 * 4 = $<<126*4=504>>504 from rides. An eighth of the people will buy a souvenir, so 504 / 8 = <<504/8=63>>63 people will buy souvenirs. The fair will make 63 * 15 = $<<63*15=945>>945 from souvenirs. In all, the fair will make 2520 + 2688 + 504 + 945 = $<<2520+2688+504+945=6657>>6657.', 'answer': '6657'}, metadata={'split': 'train'}), DatasetItem(inputs={'question': 'A roll of 25 m wire weighs 5 kg. How much does a 75 m roll weigh?'}, outputs={'gold_reasoning': 'We know that the 75 m roll is three times bigger than the 25 m roll because 75 m / 25 m = <<75/25=3>>3 This means the 75 m roll weighs 3 times more than the 25 m roll: 5 kg * 3 = 15 Kg', 'answer': '15'}, metadata={'split': 'train'}), DatasetItem(inputs={'question': 'Megan pays $16 for a shirt that costs $22 before sales. What is the amount of the discount?'}, outputs={'gold_reasoning': 'Let x be the amount of the discount. We have, 22 - x = $16 We change the writing of the equation: 22 - x + x = 16 + x So, 22 = 16 + x We then Remove 16 from both sides: 22 - 16 = 16 + x - 16 So, 22 - 16 = x So, the amount of the discount is x = $<<6=6>>6.', 'answer': '6'}, metadata={'split': 'train'}), DatasetItem(inputs={'question': 'George was selling some of his old toys on the internet. He managed to sell 3 little cars and a set of Legos. In total, he earned $45. How much did the Legos set cost, if one little car was sold for $5?'}, outputs={'gold_reasoning': 'George sold 3 cars, so he earned 3 cars * $5/car = $<<3*5=15>>15 from them. The lego set cost was then $45 - $15 = $<<45-15=30>>30.', 'answer': '30'}, metadata={'split': 'train'})], [DatasetItem(inputs={'question': 'Loris needs three more books to have the same number as Lamont, who has twice the number of books Darryl has. If Darryl has 20 books, calculate the total number of books the three have.'}, outputs={'gold_reasoning': 'Since Darryl has 20 books, Lamont, who has twice the number of books Darryl has, has 20*2 = <<20*2=40>>40 books. The total number of books both Darryl and Lamont has is 40+20 = <<40+20=60>>60 books. To have the same number of books as Lamont, Loris needs 3 more books, meaning she has 40-3 = <<40-3=37>>37 books. In total, the three has 60+37= <<60+37=97>>97 books', 'answer': '97'}, metadata={'split': 'train'}), DatasetItem(inputs={'question': 'Edmonton is 220 kilometers north of Red Deer. Calgary is 110 kilometers south of Red Deer. If you travel at 110 kilometers per hour, how long will it take to get from Edmonton to Calgary?'}, outputs={'gold_reasoning': 'Total distance travelled is 220km + 110km = <<220+110=330>>330 km. Time to travel that far is 330km / 110km/hour = <<330/110=3>>3 hours.', 'answer': '3'}, metadata={'split': 'train'}), DatasetItem(inputs={'question': 'A bird is building a nest from twigs. The bird has put twelve twigs together already to make a circle. For each twig it placed into the circle, it wants to weave in six more twigs to fill out the nest. It knows a tree that has dropped a third of the twigs it needs. How many twigs will the bird still need to find to finish its nest?'}, outputs={'gold_reasoning': 'The bird wants 12 * 6 = <<12*6=72>>72 twigs to add to the nest. It knows a tree that has dropped 72 * 1 / 3 = <<72*1/3=24>>24 twigs. Thus, the bird will still need 72 - 24 = <<72-24=48>>48 twigs to finish the nest.', 'answer': '48'}, metadata={'split': 'train'}), DatasetItem(inputs={'question': 'Jackie walks 2 miles each day while Jessie walks 1.5 miles each day. How many more miles, in all, does Jackie walk than Jessie walk in 6 days?'}, outputs={'gold_reasoning': 'Jackie walks 2 - 1.5 = <<2-1.5=0.5>>0.5 miles more each day than Jessie. So in 6 days, Jakie walks 0.5 x 6 = <<0.5*6=3>>3 miles more than Jessie.', 'answer': '3'}, metadata={'split': 'train'}), DatasetItem(inputs={'question': \"In four years, Suzy will be twice Mary's age then. If Suzy is 20 now, how old is Mary?\"}, outputs={'gold_reasoning': 'In four years, Suzy will be 20+4=<<20+4=24>>24. Then Mary will be 24/2=<<24/2=12>>12. Then Mary is now 12-4=<<12-4=8>>8.', 'answer': '8'}, metadata={'split': 'train'})], [DatasetItem(inputs={'question': 'Donny went to the gas station to gas up his tank. He knows his truck holds 150 liters of fuel. His truck already contained 38 liters. How much change will he get from $350 if each liter of fuel costs $3?'}, outputs={'gold_reasoning': 'He needs 150 - 38 = <<150-38=112>>112 liters more to have a full tank of gas. Donny will pay 112 x $3 = $<<112*3=336>>336 for a full tank of gas. His will get $350 - $336 = $<<350-336=14>>14 change.\"', 'answer': '14'}, metadata={'split': 'train'}), DatasetItem(inputs={'question': 'Roland needs a length of thread to complete an exercise. He has a 12cm long thread but his teacher says he needs an additional three-quarters of what he has. What is the total length required?'}, outputs={'gold_reasoning': 'An additional three-quarters of 12cm is needed which is 12cm*(3/4) = <<12*(3/4)=9>>9cm The total length required is 12cm+9cm = <<12+9=21>>21cm', 'answer': '21'}, metadata={'split': 'train'}), DatasetItem(inputs={'question': \"The average score on last week's Spanish test was 90.  Marco scored 10% less than the average test score and Margaret received 5 more points than Marco.  What score did Margaret receive on her test?\"}, outputs={'gold_reasoning': 'The average test score was 90 and Marco scored 10% less so 90*.10 = <<90*.10=9>>9 points lower The average test score was 90 and Marco scored 9 points less so his test score was 90-9 = <<90-9=81>>81 Margret received 5 more points than Marco whose test score was 81 so she made 5+81 = <<5+81=86>>86 on her test', 'answer': '86'}, metadata={'split': 'train'}), DatasetItem(inputs={'question': 'Genevieve picked some cherries from the supermarket shelves that cost $8 per kilogram. When Genevieve reached the checkout counter, she realized she was $400 short of the total price and her friend Clarice chipped in. If Genevieve had $1600 on her, how many kilograms of cherries did she buy?'}, outputs={'gold_reasoning': 'If Genevieve had $1600 on her, and Clarice chipped in with $400, the total cost of the cherries was $1600+$400 = $<<1600+400=2000>>2000 If the cherries cost $8 per kilogram, Genevieve bought $2000/$8 = 250 kilograms of cherry', 'answer': '250'}, metadata={'split': 'train'}), DatasetItem(inputs={'question': \"A yearly book sale is held in school where students can sell their old books at a cheaper price. Two-fifths of Lovely's books can be sold for $2.50 each and the rest for $2 each. How much will Lovely earn if all 10 books were sold?\"}, outputs={'gold_reasoning': \"Lovely will sell 10 x 2/5 = <<10*2/5=4>>4 books for $2.50 each. She will sell 10 - 4 = <<10-4=6>>6 books for $2 each. Her earnings for the 4 books at $2.50 will be $2.50 x 4 = $<<2.5*4=10>>10. Her earnings for the 6 books for $2 each will be $2 x 6 = $<<2*6=12>>12. Thus, Lovely's total earning if all 10 books are sold is $10 + $12 = $22.\", 'answer': '22'}, metadata={'split': 'train'})]]\n",
            "Initializing GroundedProposer\n",
            "Generating 10 instruction candidates\n",
            "Proposing one\n",
            "Proposing one\n",
            "Proposing one\n",
            "Proposing one\n",
            "Proposing one\n",
            "Proposing one\n",
            "Proposing one\n",
            "Proposing one\n",
            "Proposing one\n",
            "Proposing one\n"
          ]
        },
        {
          "name": "stderr",
          "output_type": "stream",
          "text": [
            "/Users/toebee/development/Weavel/Ape-Starter-Template/.venv/lib/python3.12/site-packages/optuna/samplers/_tpe/sampler.py:319: ExperimentalWarning: ``multivariate`` option is an experimental feature. The interface can change in the future.\n",
            "  warnings.warn(\n",
            "[I 2024-08-29 10:50:34,100] A new study created in memory with name: no-name-b4a19719-aa2f-4727-8cc3-2a52a33c0b72\n",
            "[I 2024-08-29 10:50:50,908] Trial 0 finished with value: 0.88 and parameters: {'instruction': 1, 'fewshot': 2}. Best is trial 0 with value: 0.88.\n",
            "[I 2024-08-29 10:50:56,681] Trial 1 finished with value: 0.92 and parameters: {'instruction': 6, 'fewshot': 2}. Best is trial 1 with value: 0.92.\n",
            "[I 2024-08-29 10:51:02,873] Trial 2 finished with value: 0.84 and parameters: {'instruction': 8, 'fewshot': 6}. Best is trial 1 with value: 0.92.\n",
            "[I 2024-08-29 10:51:08,197] Trial 3 finished with value: 0.94 and parameters: {'instruction': 4, 'fewshot': 5}. Best is trial 3 with value: 0.94.\n",
            "[I 2024-08-29 10:51:19,265] Trial 4 finished with value: 0.82 and parameters: {'instruction': 3, 'fewshot': 8}. Best is trial 3 with value: 0.94.\n",
            "[I 2024-08-29 10:51:24,290] Trial 5 finished with value: 0.96 and parameters: {'instruction': 2, 'fewshot': 3}. Best is trial 5 with value: 0.96.\n",
            "[I 2024-08-29 10:51:30,402] Trial 6 finished with value: 0.96 and parameters: {'instruction': 9, 'fewshot': 5}. Best is trial 5 with value: 0.96.\n",
            "[I 2024-08-29 10:51:35,710] Trial 7 finished with value: 0.92 and parameters: {'instruction': 7, 'fewshot': 4}. Best is trial 5 with value: 0.96.\n",
            "[I 2024-08-29 10:51:44,188] Trial 8 finished with value: 0.96 and parameters: {'instruction': 0, 'fewshot': 7}. Best is trial 5 with value: 0.96.\n",
            "[I 2024-08-29 10:51:49,608] Trial 9 finished with value: 1.0 and parameters: {'instruction': 9, 'fewshot': 7}. Best is trial 9 with value: 1.0.\n"
          ]
        }
      ],
      "source": [
        "from ape.types import ResponseFormat\n",
        "from ape.types.response_format import JsonSchema\n",
        "\n",
        "optimized_prompt = await mipro.optimize(\n",
        "    student=gsm8k_base_prompt,\n",
        "    task_description=\"Solve math problems, come up with short factoid answers.\",\n",
        "    trainset=trainset,\n",
        "    testset=testset,\n",
        "    log_dir=\"./.gsm8k_logs\",  # all logs will be saved here\n",
        "    eval_kwargs={\n",
        "        \"max_errors\": 3,\n",
        "    },\n",
        "    max_bootstrapped_demos=5,  # maximum number of fewshot examples to use\n",
        "    max_labeled_demos=5,  # maximum number of labeled examples to use\n",
        "    max_steps=20,  # maximum number of optimization steps\n",
        "    goal_score=1.0,  # goal score to achieve, stop optimization if achieved\n",
        "    response_format=ResponseFormat(type=\"json_object\"),\n",
        "    requires_permission_to_run=False,\n",
        ")"
      ]
    },
    {
      "cell_type": "markdown",
      "metadata": {
        "id": "OIvTRp4oQbeZ"
      },
      "source": [
        "### Evaluate Prompt"
      ]
    },
    {
      "cell_type": "code",
      "execution_count": 6,
      "metadata": {
        "id": "yvaKrlNLQbEN"
      },
      "outputs": [
        {
          "name": "stdout",
          "output_type": "stream",
          "text": [
            "0.9317664897649734\n"
          ]
        }
      ],
      "source": [
        "from ape.evaluate import Evaluate\n",
        "import asyncio\n",
        "\n",
        "evaluate = Evaluate(testset, metric=GSM8KMetric())\n",
        "\n",
        "async def run_evaluation():\n",
        "    try:\n",
        "        score = await asyncio.wait_for(evaluate(optimized_prompt), timeout=300)  # 5 minutes timeout\n",
        "        print(score)\n",
        "    except asyncio.TimeoutError:\n",
        "        print(\"Evaluation timed out after 5 minutes\")\n",
        "    except Exception as e:\n",
        "        print(f\"An error occurred during evaluation: {str(e)}\")\n",
        "\n",
        "await run_evaluation()"
      ]
    },
    {
      "cell_type": "code",
      "execution_count": 7,
      "metadata": {},
      "outputs": [
        {
          "name": "stdout",
          "output_type": "stream",
          "text": [
            "model='gpt-4o-mini' messages=[{'role': 'system', 'content': 'You are a math tutor who explains problems step-by-step to help a student understand the solution. Your goal is to solve math problems clearly and thoroughly, showing all necessary steps. Make sure to format your output as a JSON object. Each step should be clearly explained, and calculations should be shown inline as needed. Remember to conclude with a concise and accurate final answer.'}, {'role': 'user', 'content': 'Task demonstrations:\\n{_FEWSHOT_}\\n\\nNow perform the task for the following question:\\n{question}'}] metadata={'inputs': {'question': 'The question to be answered.'}, 'outputs': {'answer': 'The answer to the question.'}, 'response_format': ResponseFormat(type='json_object', json_schema=None), 'fewshot': [DatasetItem(inputs={'question': 'John uses the bathroom every 50 minutes.  How many times does he use the bathroom during a 2.5-hour movie?'}, outputs={'gold_reasoning': 'The movie last 2.5*60=<<2.5*60=150>>150 minutes So he uses the bathroom 150/50=<<150/50=3>>3 times', 'answer': '3'}, metadata={'split': 'train'}), DatasetItem(inputs={'question': 'Jorge is 24 years younger than Simon. In 2005, Jorge is 16 years old. In 2010, how old would Simon be?'}, outputs={'gold_reasoning': 'In 2005, Simon was 16+24 = <<16+24=40>>40 years old. There are 2010-2005 = <<2010-2005=5>>5 years between 2005 and 2010. In 2010 Simon would be 40+5 = 45 years old.', 'answer': '45'}, metadata={'split': 'train'}), DatasetItem(inputs={'question': 'Megan pays $16 for a shirt that costs $22 before sales. What is the amount of the discount?'}, outputs={'gold_reasoning': 'Let x be the amount of the discount. We have, 22 - x = $16 We change the writing of the equation: 22 - x + x = 16 + x So, 22 = 16 + x We then Remove 16 from both sides: 22 - 16 = 16 + x - 16 So, 22 - 16 = x So, the amount of the discount is x = $<<6=6>>6.', 'answer': '6'}, metadata={'split': 'train'}), DatasetItem(inputs={'question': 'Paddington has 40 more goats than Washington. If Washington has 140 goats, how many goats do they have in total?'}, outputs={'gold_reasoning': 'If Washington has 140 goats, Washington has 140+40 = <<140+40=180>>180 goats. In total, they have 140+180 = <<140+180=320>>320 goats', 'answer': '320'}, metadata={'split': 'train'}), DatasetItem(inputs={'question': 'Robin likes to bake cupcakes for friends and to make her puppy North happy. Once Robin ate four cupcakes with chocolate sauce and twice as many cupcakes with buttercream frosting on her own. How many cupcakes did Robin eat?'}, outputs={'gold_reasoning': 'Robin ate twice as many buttercream cupcakes as chocolate sauce cupcakes, or 2 * 4 = <<2*4=8>>8. So in total she ate 4 + 8 = <<4+8=12>>12 cupcakes.', 'answer': '12'}, metadata={'split': 'train'})], 'name': 'gsm8k-base', 'trial_logs': {0: {'instruction': 1, 'fewshot': 2, 'prompt_path': './.gsm8k_logs/evaluated_prompts/prompt_0_full_eval.prompt', 'num_eval_calls': 50, 'full_eval': True, 'score': 0.904, 'pruned': False, 'total_eval_calls_so_far': 550, 'mb_score': 0.88, 'mb_prompt_path': './.gsm8k_logs/evaluated_prompts/prompt_0.prompt'}, 1: {'instruction': 6, 'fewshot': 2, 'prompt_path': './.gsm8k_logs/evaluated_prompts/prompt_1.prompt', 'num_eval_calls': 50, 'full_eval': False, 'score': 0.92, 'pruned': False, 'total_eval_calls_so_far': 600}, 2: {'instruction': 8, 'fewshot': 6, 'prompt_path': './.gsm8k_logs/evaluated_prompts/prompt_2.prompt', 'num_eval_calls': 50, 'full_eval': False, 'score': 0.84, 'pruned': False, 'total_eval_calls_so_far': 650}, 3: {'instruction': 4, 'fewshot': 5, 'prompt_path': './.gsm8k_logs/evaluated_prompts/prompt_3.prompt', 'num_eval_calls': 50, 'full_eval': False, 'score': 0.94, 'pruned': False, 'total_eval_calls_so_far': 700}, 4: {'instruction': 3, 'fewshot': 8, 'prompt_path': './.gsm8k_logs/evaluated_prompts/prompt_4.prompt', 'num_eval_calls': 50, 'full_eval': False, 'score': 0.82, 'pruned': False, 'total_eval_calls_so_far': 750}, 5: {'instruction': 2, 'fewshot': 3, 'prompt_path': './.gsm8k_logs/evaluated_prompts/prompt_5.prompt', 'num_eval_calls': 50, 'full_eval': False, 'score': 0.96, 'pruned': False, 'total_eval_calls_so_far': 800}, 6: {'instruction': 9, 'fewshot': 5, 'prompt_path': './.gsm8k_logs/evaluated_prompts/prompt_6.prompt', 'num_eval_calls': 50, 'full_eval': False, 'score': 0.96, 'pruned': False, 'total_eval_calls_so_far': 850}, 7: {'instruction': 7, 'fewshot': 4, 'prompt_path': './.gsm8k_logs/evaluated_prompts/prompt_7.prompt', 'num_eval_calls': 50, 'full_eval': False, 'score': 0.92, 'pruned': False, 'total_eval_calls_so_far': 900}, 8: {'instruction': 0, 'fewshot': 7, 'prompt_path': './.gsm8k_logs/evaluated_prompts/prompt_8.prompt', 'num_eval_calls': 50, 'full_eval': False, 'score': 0.96, 'pruned': False, 'total_eval_calls_so_far': 950}, 9: {'instruction': 9, 'fewshot': 7, 'prompt_path': './.gsm8k_logs/evaluated_prompts/prompt_9.prompt', 'num_eval_calls': 50, 'full_eval': False, 'score': 1.0, 'pruned': False, 'total_eval_calls_so_far': 1000}}, 'score': 0.904, 'total_eval_calls': 1000} temperature=0.0\n"
          ]
        }
      ],
      "source": [
        "print(optimized_prompt)"
      ]
    },
    {
      "cell_type": "markdown",
      "metadata": {},
      "source": [
        "## Compare with CoT "
      ]
    },
    {
      "cell_type": "markdown",
      "metadata": {},
      "source": [
        "### 4o-mini with CoT"
      ]
    },
    {
      "cell_type": "code",
      "execution_count": 6,
      "metadata": {},
      "outputs": [
        {
          "name": "stdout",
          "output_type": "stream",
          "text": [
            "0.9075056861258529\n"
          ]
        }
      ],
      "source": [
        "from ape.evaluate import Evaluate\n",
        "import asyncio\n",
        "\n",
        "cot_prompt_4o_mini = Prompt.load_file(\"gsm8k-cot-4o-mini.prompt\")\n",
        "\n",
        "evaluate = Evaluate(testset, metric=GSM8KMetric())\n",
        "\n",
        "async def run_evaluation(semaphore):\n",
        "    async with semaphore:\n",
        "        try:\n",
        "            score = await asyncio.wait_for(evaluate(cot_prompt_4o_mini), timeout=300)  # 5 minutes timeout\n",
        "            print(score)\n",
        "        except asyncio.TimeoutError:\n",
        "            print(\"Evaluation timed out after 5 minutes\")\n",
        "        except Exception as e:\n",
        "            print(f\"An error occurred during evaluation: {str(e)}\")\n",
        "\n",
        "semaphore = asyncio.Semaphore(5)\n",
        "\n",
        "await run_evaluation(semaphore)"
      ]
    }
  ],
  "metadata": {
    "colab": {
      "provenance": []
    },
    "kernelspec": {
      "display_name": "Python 3",
      "name": "python3"
    },
    "language_info": {
      "codemirror_mode": {
        "name": "ipython",
        "version": 3
      },
      "file_extension": ".py",
      "mimetype": "text/x-python",
      "name": "python",
      "nbconvert_exporter": "python",
      "pygments_lexer": "ipython3",
      "version": "3.12.3"
    }
  },
  "nbformat": 4,
  "nbformat_minor": 0
}
